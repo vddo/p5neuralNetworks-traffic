{
 "cells": [
  {
   "cell_type": "code",
   "execution_count": 1,
   "metadata": {},
   "outputs": [],
   "source": [
    "import matplotlib.pyplot as plt\n",
    "import numpy as np\n",
    "import PIL\n",
    "import tensorflow as tf\n",
    "\n",
    "from tensorflow import keras\n",
    "from keras import layers\n",
    "from keras.models import Sequential\n",
    "from sklearn.model_selection import train_test_split\n",
    "\n",
    "from traffic import load_data as ld"
   ]
  },
  {
   "cell_type": "code",
   "execution_count": 2,
   "metadata": {},
   "outputs": [],
   "source": [
    "images, labels = ld('../gtsrb/')\n",
    "num_classes = 43\n",
    "\n",
    "x_train, x_test, y_train, y_test = train_test_split(\n",
    "    np.array(images), np.array(labels), test_size=0.2\n",
    ")\n",
    "\n",
    "\"\"\" Standardize the data \"\"\"\n",
    "x_train, x_test = x_train / 255.0, x_test / 255.0\n",
    "y_train = tf.keras.utils.to_categorical(y_train)\n",
    "y_test = tf.keras.utils.to_categorical(y_test)"
   ]
  },
  {
   "cell_type": "code",
   "execution_count": 21,
   "metadata": {},
   "outputs": [],
   "source": [
    "# Dropout\n",
    "\n",
    "model_dropout = Sequential([\n",
    "    layers.Conv2D(16, 3, activation='relu', input_shape=(50, 50, 3)),\n",
    "    layers.MaxPooling2D(),\n",
    "    layers.Conv2D(16, 3, activation='relu'),\n",
    "    layers.MaxPooling2D(),\n",
    "    layers.Conv2D(32, 3, activation='relu'),\n",
    "    layers.MaxPooling2D(),\n",
    "    layers.Dropout(0.3),\n",
    "    layers.Flatten(),\n",
    "    layers.Dense(128, activation='relu'),\n",
    "    layers.Dense(64, activation='relu'),\n",
    "    layers.Dense(num_classes, activation='softmax')\n",
    "])\n",
    "\n",
    "model_dropout.compile(\n",
    "    optimizer='adam',\n",
    "    loss='categorical_crossentropy',\n",
    "    metrics=['accuracy']\n",
    ")"
   ]
  },
  {
   "cell_type": "code",
   "execution_count": 22,
   "metadata": {},
   "outputs": [
    {
     "name": "stdout",
     "output_type": "stream",
     "text": [
      "Epoch 1/15\n",
      "666/666 [==============================] - 7s 10ms/step - loss: 1.8745 - accuracy: 0.4751\n",
      "Epoch 2/15\n",
      "666/666 [==============================] - 6s 10ms/step - loss: 0.5254 - accuracy: 0.8395\n",
      "Epoch 3/15\n",
      "666/666 [==============================] - 6s 10ms/step - loss: 0.2957 - accuracy: 0.9098\n",
      "Epoch 4/15\n",
      "666/666 [==============================] - 7s 10ms/step - loss: 0.2044 - accuracy: 0.9386\n",
      "Epoch 5/15\n",
      "666/666 [==============================] - 7s 10ms/step - loss: 0.1614 - accuracy: 0.9509\n",
      "Epoch 6/15\n",
      "666/666 [==============================] - 6s 10ms/step - loss: 0.1350 - accuracy: 0.9587\n",
      "Epoch 7/15\n",
      "666/666 [==============================] - 7s 10ms/step - loss: 0.1112 - accuracy: 0.9656\n",
      "Epoch 8/15\n",
      "666/666 [==============================] - 7s 11ms/step - loss: 0.0950 - accuracy: 0.9703\n",
      "Epoch 9/15\n",
      "666/666 [==============================] - 7s 10ms/step - loss: 0.0892 - accuracy: 0.9724\n",
      "Epoch 10/15\n",
      "666/666 [==============================] - 7s 10ms/step - loss: 0.0785 - accuracy: 0.9747\n",
      "Epoch 11/15\n",
      "666/666 [==============================] - 7s 10ms/step - loss: 0.0689 - accuracy: 0.9788\n",
      "Epoch 12/15\n",
      "666/666 [==============================] - 7s 11ms/step - loss: 0.0680 - accuracy: 0.9791\n",
      "Epoch 13/15\n",
      "666/666 [==============================] - 7s 10ms/step - loss: 0.0547 - accuracy: 0.9825\n",
      "Epoch 14/15\n",
      "666/666 [==============================] - 7s 11ms/step - loss: 0.0572 - accuracy: 0.9814\n",
      "Epoch 15/15\n",
      "666/666 [==============================] - 7s 10ms/step - loss: 0.0559 - accuracy: 0.9832\n"
     ]
    }
   ],
   "source": [
    "epochs = 15\n",
    "history = model_dropout.fit(\n",
    "    x_train, y_train, \n",
    "    # validation_data=(x_test, y_test), \n",
    "    epochs=epochs\n",
    ")"
   ]
  },
  {
   "cell_type": "code",
   "execution_count": null,
   "metadata": {},
   "outputs": [],
   "source": [
    "\"\"\" Visualize result \"\"\"\n",
    "acc = history.history['accuracy']\n",
    "# val_acc = history.history['val_accuracy']\n",
    "\n",
    "loss = history.history['loss']\n",
    "# val_loss = history.history['val_loss']\n",
    "\n",
    "epochs_range = range(epochs)\n",
    "\n",
    "plt.figure(figsize=(8,8))\n",
    "plt.subplot(1, 2, 1)\n",
    "plt.plot(epochs_range, acc, label='Training Accuracy')\n",
    "# plt.plot(epochs_range, val_acc, label='Validation Accuracy')\n",
    "plt.legend(loc='lower right')\n",
    "plt.title('Training and Validation Accuracy')\n",
    "\n",
    "plt.subplot(1, 2, 2)\n",
    "plt.plot(epochs_range, loss, label='Training Loss')\n",
    "# plt.plot(epochs_range, val_loss, label='Validation Loss')\n",
    "plt.legend(loc='upper right')\n",
    "plt.title('Training and Validation Loss')\n",
    "plt.show()"
   ]
  },
  {
   "cell_type": "code",
   "execution_count": 6,
   "metadata": {},
   "outputs": [],
   "source": [
    "x_train, x_test, y_train, y_test = train_test_split(\n",
    "    np.array(images), np.array(labels), test_size=0.2\n",
    ")\n",
    "\n",
    "\"\"\" Standardize the data \"\"\"\n",
    "x_train, x_test = x_train / 255.0, x_test / 255.0\n",
    "y_train = tf.keras.utils.to_categorical(y_train)\n",
    "y_test = tf.keras.utils.to_categorical(y_test)"
   ]
  },
  {
   "cell_type": "code",
   "execution_count": 24,
   "metadata": {},
   "outputs": [
    {
     "name": "stdout",
     "output_type": "stream",
     "text": [
      "167/167 [==============================] - 1s 4ms/step - loss: 0.0436 - accuracy: 0.9925\n"
     ]
    },
    {
     "data": {
      "text/plain": [
       "[0.04356847330927849, 0.9924924969673157]"
      ]
     },
     "execution_count": 24,
     "metadata": {},
     "output_type": "execute_result"
    }
   ],
   "source": [
    "model_dropout.evaluate(x_test, y_test)"
   ]
  },
  {
   "cell_type": "code",
   "execution_count": 36,
   "metadata": {},
   "outputs": [],
   "source": [
    "images, labels = ld('../gtsrb-small-jpeg-Kopie')\n",
    "images = np.array(images) / 255.0"
   ]
  },
  {
   "cell_type": "code",
   "execution_count": 41,
   "metadata": {},
   "outputs": [
    {
     "name": "stdout",
     "output_type": "stream",
     "text": [
      "20\n",
      "0.996693\n"
     ]
    },
    {
     "data": {
      "image/png": "[encoded data removed]",
      "text/plain": [
       "<Figure size 600x600 with 1 Axes>"
      ]
     },
     "metadata": {},
     "output_type": "display_data"
    }
   ],
   "source": [
    "i = 3\n",
    "\n",
    "plt.figure(figsize=(6,6))\n",
    "# ax = plt.subplot(5, 5, i+1)\n",
    "plt.imshow(images[i])\n",
    "plt.axis(\"off\")\n",
    "\n",
    "predictions = model_dropout(tf.expand_dims(images[i], 0))\n",
    "print(np.where(predictions == np.max(predictions))[1][0])\n",
    "print(np.max(predictions))"
   ]
  },
  {
   "cell_type": "code",
   "execution_count": 15,
   "metadata": {},
   "outputs": [
    {
     "data": {
      "text/plain": [
       "<tf.Tensor: shape=(1, 43), dtype=float32, numpy=\n",
       "array([[6.27447702e-16, 2.08548179e-09, 1.41546252e-05, 1.33512949e-11,\n",
       "        1.06594893e-23, 1.86481799e-07, 2.19550838e-14, 2.85306925e-07,\n",
       "        1.39315794e-12, 4.36881043e-12, 4.19314757e-13, 6.55333340e-01,\n",
       "        4.54799701e-05, 1.61734992e-23, 3.46702615e-12, 1.93498742e-19,\n",
       "        5.16792206e-05, 1.38241232e-14, 1.16673810e-03, 3.50233142e-16,\n",
       "        3.43036443e-01, 3.51578601e-15, 8.17166433e-17, 1.61611879e-05,\n",
       "        3.16119492e-10, 1.32710556e-05, 1.75276626e-04, 3.90873902e-05,\n",
       "        3.42066606e-08, 6.53666167e-14, 1.51646600e-06, 1.04672334e-04,\n",
       "        1.67606407e-09, 2.13568292e-20, 1.27932124e-16, 6.76416037e-19,\n",
       "        8.61616578e-16, 3.37713942e-16, 4.60975008e-11, 2.97899509e-32,\n",
       "        1.64819107e-06, 1.38351055e-13, 3.13647774e-08]], dtype=float32)>"
      ]
     },
     "execution_count": 15,
     "metadata": {},
     "output_type": "execute_result"
    }
   ],
   "source": [
    "predictions"
   ]
  }
 ],
 "metadata": {
  "kernelspec": {
   "display_name": "Python 3.10.6 ('base')",
   "language": "python",
   "name": "python3"
  },
  "language_info": {
   "codemirror_mode": {
    "name": "ipython",
    "version": 3
   },
   "file_extension": ".py",
   "mimetype": "text/x-python",
   "name": "python",
   "nbconvert_exporter": "python",
   "pygments_lexer": "ipython3",
   "version": "3.10.6"
  },
  "orig_nbformat": 4,
  "vscode": {
   "interpreter": {
    "hash": "51aac96a1ad50adc7d4a1a596256386b3ce94cd59070594d461c13d85ed1cee1"
   }
  }
 },
 "nbformat": 4,
 "nbformat_minor": 2
}
